{
  "nbformat": 4,
  "nbformat_minor": 0,
  "metadata": {
    "colab": {
      "name": "Xml_To_txt_Converter.ipynb",
      "provenance": []
    },
    "kernelspec": {
      "name": "python3",
      "display_name": "Python 3"
    },
    "language_info": {
      "name": "python"
    }
  },
  "cells": [
    {
      "cell_type": "code",
      "execution_count": null,
      "metadata": {
        "id": "I1VkxvQUY7fb"
      },
      "outputs": [],
      "source": [
        "import os\n",
        "import xml.etree.ElementTree as ET\n",
        "from decimal import Decimal\n",
        "\n",
        "dirpath = r'C:\\Users\\ikoca\\Desktop\\Final Project Deep Learning\\Annotations\\Oriented Bounding Boxes'  #  Originally stored xml File directory \n",
        "newdir = r'C:\\Users\\ikoca\\Desktop\\Final Project Deep Learning\\Annotations\\Oriented Bounding Boxes_txt-done'  #  modify label After the formation of txt Catalog \n",
        "# xml_path=r'E:\\Dataset\\RemoteSensingImage\\5-DIOR\\Annotations\\00001.xml'\n",
        "labels=['airplane','airport','baseballfield','basketballcourt','bridge','chimney','dam','Expressway-Service-area','Expressway-toll-station',\\\n",
        "        'golffield','groundtrackfield','harbor','overpass','ship','stadium','storagetank','tenniscourt','trainstation','vehicle','windmill']\n",
        "\n",
        "for fp in os.listdir(dirpath):\n",
        "    root = ET.parse(os.path.join(dirpath, fp)).getroot()\n",
        "    xmin, ymin, xmax, ymax = 0, 0, 0, 0\n",
        "    sz = root.find('size')\n",
        "    width = float(sz[0].text)\n",
        "    height = float(sz[1].text)\n",
        "    filename = root.find('filename').text\n",
        "    # print(fp)\n",
        "    with open(os.path.join(newdir, fp.split('.')[0] + '.txt'), 'a+') as f:\n",
        "        for child in root.findall('object'):  #  Find all the boxes in the picture \n",
        "\n",
        "            sub = child.find('bndbox')  #  Find the dimension value of the box and read it \n",
        "            sub_label = child.find('name')\n",
        "            xmin = float(sub[0].text)\n",
        "            ymin = float(sub[1].text)\n",
        "            xmax = float(sub[2].text)\n",
        "            ymax = float(sub[3].text)\n",
        "            try:  #  convert to yolov Label format for , It needs to be normalized to （0-1） Within the scope of \n",
        "                x_center = Decimal(str(round(float((xmin + xmax) / (2 * width)), 6))).quantize(Decimal('0.000000'))\n",
        "                y_center = Decimal(str(round(float((ymin + ymax) / (2 * height)), 6))).quantize(Decimal('0.000000'))\n",
        "                w = Decimal(str(round(float((xmax - xmin) / width), 6))).quantize(Decimal('0.000000'))\n",
        "                h = Decimal(str(round(float((ymax - ymin) / height), 6))).quantize(Decimal('0.000000'))\n",
        "                print(str(x_center) + ' ' + str(y_center) + ' ' + str(w) + ' ' + str(h))\n",
        "                #  Read the required label \n",
        "                for idx in range(len(labels)):\n",
        "                    if sub_label.text == labels[idx]:\n",
        "                        f.write(' '.join([str(idx),str(x_center), str(y_center), str(w), str(h) + '\\n']))\n",
        "            except ZeroDivisionError:\n",
        "                print(filename, ' There is a problem ')\n",
        "'''  There are other labels to choose from  if sub_label.text == 'xxx': f.write(' '.join([str(1), str(x_center), str(y_center), str(w), str(h) + '\\n'])) if sub_label.text == 'xxx': f.write(' '.join([str(2), str(x_center), str(y_center), str(w), str(h) + '\\n'])) '''\n",
        "\n",
        "\n",
        "# with open(os.path.join(newdir, fp.split('.')[0] + '.txt'), 'a+') as f:\n",
        "# f.write(' '.join([str(2), str(x_center), str(y_center), str(w), str(h) + '\\n']))\n"
      ]
    }
  ]
}