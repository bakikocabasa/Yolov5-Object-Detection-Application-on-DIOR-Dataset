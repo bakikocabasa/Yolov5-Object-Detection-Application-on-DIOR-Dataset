{
  "nbformat": 4,
  "nbformat_minor": 0,
  "metadata": {
    "colab": {
      "name": "preparedata .ipynb",
      "provenance": [],
      "collapsed_sections": [],
      "include_colab_link": true
    },
    "kernelspec": {
      "name": "python3",
      "display_name": "Python 3"
    },
    "language_info": {
      "name": "python"
    },
    "accelerator": "GPU",
    "gpuClass": "standard"
  },
  "cells": [
    {
      "cell_type": "markdown",
      "metadata": {
        "id": "view-in-github",
        "colab_type": "text"
      },
      "source": [
        "<a href=\"https://colab.research.google.com/github/Deep-Learning-IGP-TUBS-SoSe2022/2022-Group04/blob/main/Final_Project/Code/preparedata_.ipynb\" target=\"_parent\"><img src=\"https://colab.research.google.com/assets/colab-badge.svg\" alt=\"Open In Colab\"/></a>"
      ]
    },
    {
      "cell_type": "markdown",
      "source": [
        "**Course**: Deep Learning Final Project- Object Detection with YOLO Using DIOR Dataset\n",
        "\n",
        "[<img align=\"right\" width=\"400\" height=\"100\" src=\"https://www.tu-braunschweig.de/typo3conf/ext/tu_braunschweig/Resources/Public/Images/Logos/tu_braunschweig_logo.svg\">](https://www.tu-braunschweig.de/en/) \n",
        "\n",
        "[Abdulbaki Kocabasa]() \\([a.kocabasa@tu-bs.de](@tu-bs.de)) and [Yao Yue]() (yue.yao@tu-bs.de)\n",
        "\n",
        "[Technical University of Braunschweig](https://www.tu-braunschweig.de/en/)  "
      ],
      "metadata": {
        "id": "IrLMf5VI0xSl"
      }
    },
    {
      "cell_type": "code",
      "source": [
        "from google.colab import drive\n",
        "drive.mount('/content/drive')\n"
      ],
      "metadata": {
        "colab": {
          "base_uri": "https://localhost:8080/"
        },
        "id": "WTH9nG-w0ywu",
        "outputId": "32dd43f0-0bc8-4951-fb88-55e4cc185082"
      },
      "execution_count": null,
      "outputs": [
        {
          "output_type": "stream",
          "name": "stdout",
          "text": [
            "Mounted at /content/drive\n"
          ]
        }
      ]
    },
    {
      "cell_type": "code",
      "source": [
        "%cd drive/MyDrive"
      ],
      "metadata": {
        "colab": {
          "base_uri": "https://localhost:8080/"
        },
        "id": "iZHC6tNR4nqH",
        "outputId": "96192c1c-3b82-4cfe-8e9a-5d7b9146a39e"
      },
      "execution_count": null,
      "outputs": [
        {
          "output_type": "stream",
          "name": "stdout",
          "text": [
            "/content/drive/MyDrive\n"
          ]
        }
      ]
    },
    {
      "cell_type": "markdown",
      "source": [
        "## convert .xml files which containing the bounding box info to .csv "
      ],
      "metadata": {
        "id": "dS4VqB2D2err"
      }
    },
    {
      "cell_type": "code",
      "source": [
        "import os\n",
        "import zipfile\n",
        "from xml.etree import ElementTree\n",
        "import csv"
      ],
      "metadata": {
        "id": "BlaTAj8h2O8h"
      },
      "execution_count": null,
      "outputs": []
    },
    {
      "cell_type": "code",
      "source": [
        "# extract .zip to folder\n",
        "zip_path = \"/content/drive/MyDrive/DIOR for me/Annotations.zip\"\n",
        "os.path.exists(zip_path)\n",
        "with zipfile.ZipFile(zip_path, 'r') as zip_ref:\n",
        "    zip_ref.extractall(\"/content/drive/MyDrive/DIOR for me\")"
      ],
      "metadata": {
        "id": "S47EVWSr39Qn"
      },
      "execution_count": null,
      "outputs": []
    },
    {
      "cell_type": "code",
      "source": [
        "xml_path = \"/content/drive/MyDrive/DIOR for me/Annotations\"\n",
        "HBB_path = os.listdir('{}/Horizontal Bounding Boxes'.format(xml_path))\n",
        "OBB_path = os.listdir('{}/Oriented Bounding Boxes'.format(xml_path))"
      ],
      "metadata": {
        "id": "qThx4cjY56i1"
      },
      "execution_count": null,
      "outputs": []
    },
    {
      "cell_type": "code",
      "source": [
        "#create folders for csv files\n",
        "os.makedirs('{}/Horizontal Bounding Boxes csv'.format(xml_path),exist_ok=True)\n",
        "os.makedirs('{}/Oriented Bounding Boxes csv'.format(xml_path),exist_ok=True)\n",
        "for path in zip(HBB_path,OBB_path):\n",
        "  #parse\n",
        "  H_xml = ElementTree.parse('{}/Horizontal Bounding Boxes/{}'.format(xml_path,path[0]))\n",
        "  O_xml = ElementTree.parse('{}/Oriented Bounding Boxes/{}'.format(xml_path,path[1]))\n",
        "  #create csv\n",
        "  H_csvfile = open('{}/Horizontal Bounding Boxes csv/{}.csv'.format(xml_path,path[0].split('.')[0]),'w',encoding='utf-8')\n",
        "  O_csvfile = open('{}/Oriented Bounding Boxes csv/{}.csv'.format(xml_path,path[1].split('.')[0]),'w',encoding='utf-8')\n",
        "  H_csvfile_writer = csv.writer(H_csvfile)\n",
        "  O_csvfile_writer = csv.writer(O_csvfile)\n",
        "  #add header\n",
        "  H_csvfile_writer.writerow(['class','xmin','ymin','xmax','ymax'])\n",
        "  O_csvfile_writer.writerow(['class','x_left_top','y_left_top','x_right_top','y_right_top','x_right_bottom','y_right_bottom','x_left_bottom','y_left_bottom'])\n",
        "  for obj in zip(H_xml.findall('object'),O_xml.findall('object')):\n",
        "    #H\n",
        "    if(obj[0]):\n",
        "      obj_class = obj[0].find('name')\n",
        "      xmin = obj[0].find('bndbox').find('xmin')\n",
        "      ymin = obj[0].find('bndbox').find('ymin')\n",
        "      xmax = obj[0].find('bndbox').find('xmax')\n",
        "      ymax = obj[0].find('bndbox').find('ymax')\n",
        "      csvline = [obj_class.text,xmin.text,ymin.text,xmax.text,ymax.text]\n",
        "      H_csvfile_writer.writerow(csvline)\n",
        "    #O\n",
        "    if(obj[1]):\n",
        "      obj_class = obj[1].find('name')\n",
        "      x_left_top = obj[1].find('robndbox').find('x_left_top')\n",
        "      y_left_top = obj[1].find('robndbox').find('y_left_top')\n",
        "      x_right_top = obj[1].find('robndbox').find('x_right_top')\n",
        "      y_right_top = obj[1].find('robndbox').find('y_right_top')\n",
        "      x_right_bottom = obj[1].find('robndbox').find('x_right_bottom')\n",
        "      y_right_bottom = obj[1].find('robndbox').find('y_right_bottom')\n",
        "      x_left_bottom = obj[1].find('robndbox').find('x_left_bottom')\n",
        "      y_left_bottom = obj[1].find('robndbox').find('y_left_bottom')\n",
        "      csvline = [obj_class.text,x_left_top.text,y_left_top.text,x_right_top.text,y_right_top.text,\n",
        "                 x_right_bottom.text,y_right_bottom.text,x_left_bottom.text,y_left_bottom.text]\n",
        "      O_csvfile_writer.writerow(csvline)\n",
        "  print('{}.csv created'.format(path[0].split('.')[0]))\n",
        "  H_csvfile.close()\n",
        "  O_csvfile.close()"
      ],
      "metadata": {
        "id": "WcLRuvleSfCL"
      },
      "execution_count": null,
      "outputs": []
    }
  ]
}